{
  "nbformat": 4,
  "nbformat_minor": 0,
  "metadata": {
    "colab": {
      "provenance": [],
      "authorship_tag": "ABX9TyPJFcbPETJLOLzfsqWXzltA",
      "include_colab_link": true
    },
    "kernelspec": {
      "name": "python3",
      "display_name": "Python 3"
    },
    "language_info": {
      "name": "python"
    }
  },
  "cells": [
    {
      "cell_type": "markdown",
      "metadata": {
        "id": "view-in-github",
        "colab_type": "text"
      },
      "source": [
        "<a href=\"https://colab.research.google.com/github/Danielperez471/Simulacion/blob/main/Unidad2/tarea1.ipynb\" target=\"_parent\"><img src=\"https://colab.research.google.com/assets/colab-badge.svg\" alt=\"Open In Colab\"/></a>"
      ]
    },
    {
      "cell_type": "markdown",
      "source": [
        "#UNIDAD 2\n",
        "#Generación de números aleatorios en Python\n",
        "##Realizar un programa en Python que genere:\n",
        "##-100 números aleatorios por el método congruencial lineal.\n",
        "###Profesor: Rodriguez Rivas Jose Gabriel\n",
        "###Alumno: Perez Macias Daniel Alonso"
      ],
      "metadata": {
        "id": "k_lx9vFCjQ7H"
      }
    },
    {
      "cell_type": "code",
      "execution_count": 8,
      "metadata": {
        "colab": {
          "base_uri": "https://localhost:8080/"
        },
        "id": "vTjctdZ2jOLg",
        "outputId": "ac54b375-2c5e-465c-f9cb-ac6f96e611c1"
      },
      "outputs": [
        {
          "output_type": "stream",
          "name": "stdout",
          "text": [
            "[2, 12, 4, 18, 3, 15, 13, 7, 8, 11, 1, 9, 14, 10, 17, 0, 6, 5, 2, 12, 4, 18, 3, 15, 13, 7, 8, 11, 1, 9, 14, 10, 17, 0, 6, 5, 2, 12, 4, 18, 3, 15, 13, 7, 8, 11, 1, 9, 14, 10, 17, 0, 6, 5, 2, 12, 4, 18, 3, 15, 13, 7, 8, 11, 1, 9, 14, 10, 17, 0, 6, 5, 2, 12, 4, 18, 3, 15, 13, 7, 8, 11, 1, 9, 14, 10, 17, 0, 6, 5, 2, 12, 4, 18, 3, 15, 13, 7, 8, 11]\n"
          ]
        }
      ],
      "source": [
        "# Se define la función para generar números pseudoaleatorios\n",
        "def generar_numeros(n, X0, a, c, m):\n",
        "    # Lista donde se guardan los números generados\n",
        "    numeros = []\n",
        "\n",
        "    # Se inicia con la semilla\n",
        "    Xn = X0\n",
        "\n",
        "    # Ciclo para generar los números y que se guarden en la lista\n",
        "    for _ in range(n):\n",
        "        Xn = (a * Xn + c) % m  # Aplicación de la fórmula\n",
        "        numeros.append(Xn)  # Se almacena el número en la lista\n",
        "\n",
        "    return numeros  # Se retorna la lista de números generados\n",
        "\n",
        "# Parámetros del generador\n",
        "X0 = 5  # Semilla\n",
        "a = 3    # Multiplicador\n",
        "c = 6    # Constante aditiva\n",
        "m = 19    # Módulo\n",
        "\n",
        "# Generar 100 números pseudoaleatorios\n",
        "numeros_generados = generar_numeros(100, X0, a, c, m)\n",
        "print(numeros_generados)\n"
      ]
    }
  ]
}
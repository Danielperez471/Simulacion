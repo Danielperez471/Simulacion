{
  "nbformat": 4,
  "nbformat_minor": 0,
  "metadata": {
    "colab": {
      "provenance": [],
      "authorship_tag": "ABX9TyMgnP24VG3rG0xLFb4kAl7R",
      "include_colab_link": true
    },
    "kernelspec": {
      "name": "python3",
      "display_name": "Python 3"
    },
    "language_info": {
      "name": "python"
    }
  },
  "cells": [
    {
      "cell_type": "markdown",
      "metadata": {
        "id": "view-in-github",
        "colab_type": "text"
      },
      "source": [
        "<a href=\"https://colab.research.google.com/github/Danielperez471/Simulacion/blob/main/Unidad2/tarea2.ipynb\" target=\"_parent\"><img src=\"https://colab.research.google.com/assets/colab-badge.svg\" alt=\"Open In Colab\"/></a>"
      ]
    },
    {
      "cell_type": "markdown",
      "source": [
        "#Unidad 2\n",
        "##Generacion de numeros aleatorios\n",
        "##Realizar un programa en Python que realice 100 números aleatorios y realice la prueba de uniformidad de Kolmogorov-Smirnov\n",
        "\n",
        "###Alumno: Daniel Alonso Perez Macias\n",
        "###Docente: Jose Gabriel Rodriguez Rivas"
      ],
      "metadata": {
        "id": "PUT_4A2zlnvh"
      }
    },
    {
      "cell_type": "code",
      "execution_count": 1,
      "metadata": {
        "id": "xTTQAP2LkX5y",
        "colab": {
          "base_uri": "https://localhost:8080/"
        },
        "outputId": "20f3164c-7aef-4f06-ca1f-ac3228124676"
      },
      "outputs": [
        {
          "output_type": "stream",
          "name": "stdout",
          "text": [
            "Números aleatorios generados:\n",
            "[0.37454012 0.95071431 0.73199394 0.59865848 0.15601864 0.15599452\n",
            " 0.05808361 0.86617615 0.60111501 0.70807258 0.02058449 0.96990985\n",
            " 0.83244264 0.21233911 0.18182497 0.18340451 0.30424224 0.52475643\n",
            " 0.43194502 0.29122914 0.61185289 0.13949386 0.29214465 0.36636184\n",
            " 0.45606998 0.78517596 0.19967378 0.51423444 0.59241457 0.04645041\n",
            " 0.60754485 0.17052412 0.06505159 0.94888554 0.96563203 0.80839735\n",
            " 0.30461377 0.09767211 0.68423303 0.44015249 0.12203823 0.49517691\n",
            " 0.03438852 0.9093204  0.25877998 0.66252228 0.31171108 0.52006802\n",
            " 0.54671028 0.18485446 0.96958463 0.77513282 0.93949894 0.89482735\n",
            " 0.59789998 0.92187424 0.0884925  0.19598286 0.04522729 0.32533033\n",
            " 0.38867729 0.27134903 0.82873751 0.35675333 0.28093451 0.54269608\n",
            " 0.14092422 0.80219698 0.07455064 0.98688694 0.77224477 0.19871568\n",
            " 0.00552212 0.81546143 0.70685734 0.72900717 0.77127035 0.07404465\n",
            " 0.35846573 0.11586906 0.86310343 0.62329813 0.33089802 0.06355835\n",
            " 0.31098232 0.32518332 0.72960618 0.63755747 0.88721274 0.47221493\n",
            " 0.11959425 0.71324479 0.76078505 0.5612772  0.77096718 0.4937956\n",
            " 0.52273283 0.42754102 0.02541913 0.10789143]\n",
            "\n",
            "Estadístico D de Kolmogorov-Smirnov: 0.0803\n",
            "Valor p: 0.5130\n",
            "No se rechaza H0: Los datos podrían seguir una distribución uniforme.\n"
          ]
        }
      ],
      "source": [
        "import numpy as np\n",
        "import scipy.stats as stats\n",
        "\n",
        "# se Generar 100 números aleatorios uniformes entre 0 y 1\n",
        "np.random.seed(42)  # se fija la semilla para reproducibilidad\n",
        "datos = np.random.uniform(0, 1, 100)  #se generan los 100 numeros entre el 0 y 1\n",
        "print(\"Números aleatorios generados:\")\n",
        "print(datos)\n",
        "\n",
        "#prueba de Kolmogorov-Smirnov\n",
        "D, p_valor = stats.kstest(datos, 'uniform')\n",
        "#stats.kstest: Ejecuta la prueba de Kolmogorov-Smirnov comparando los datos con una distribución uniforme en el intervalo [0,1]\n",
        "#D: Es el estadístico de Kolmogorov-Smirnov (máxima diferencia entre la FEC observada y la teórica).\n",
        "#p_valor:Nos indica la probabilidad de obtener un valor tan extremo como D bajo la hipótesis nula.\n",
        "\n",
        "#se imprimen los valores con 4 decimales\n",
        "print(f\"\\nEstadístico D de Kolmogorov-Smirnov: {D:.4f}\")\n",
        "print(f\"Valor p: {p_valor:.4f}\")\n",
        "\n",
        "alfa = 0.05  # Nivel de significancia del 5% (valor estandar)\n",
        "if p_valor < alfa:\n",
        "    print(\"Se rechaza H0: Los datos NO siguen una distribución uniforme.\")\n",
        "else:\n",
        "    print(\"No se rechaza H0: Los datos podrían seguir una distribución uniforme.\")\n"
      ]
    }
  ]
}